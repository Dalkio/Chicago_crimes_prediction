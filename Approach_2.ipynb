{
 "cells": [
  {
   "cell_type": "markdown",
   "metadata": {},
   "source": [
    "## Machine Learning Project: Crime prediction in Chicago\n",
    "### Approach 2: Naive Bayes\n",
    "#### The problem we propose is to predict future occurrences of crime by identifying times and locations for different crime types for Chicago. "
   ]
  },
  {
   "cell_type": "markdown",
   "metadata": {},
   "source": [
    "### Import Chicago crime location dataset"
   ]
  },
  {
   "cell_type": "code",
   "execution_count": 1,
   "metadata": {
    "collapsed": true
   },
   "outputs": [],
   "source": [
    "import pandas as pd\n",
    "import matplotlib.pyplot as plt\n",
    "import matplotlib.cm as cm\n",
    "import numpy as np\n",
    "from sklearn.model_selection import KFold\n",
    "%matplotlib inline"
   ]
  },
  {
   "cell_type": "code",
   "execution_count": 3,
   "metadata": {
    "collapsed": false
   },
   "outputs": [],
   "source": [
    "inputfile = 'Crimes_-_2008_to_present.csv' ## Full crime dataset from 2008"
   ]
  },
  {
   "cell_type": "code",
   "execution_count": 4,
   "metadata": {
    "collapsed": false
   },
   "outputs": [
    {
     "data": {
      "text/plain": [
       "Index(['Date', 'District', 'Community Area', 'X Coordinate', 'Y Coordinate',\n",
       "       'Latitude', 'Longitude'],\n",
       "      dtype='object')"
      ]
     },
     "execution_count": 4,
     "metadata": {},
     "output_type": "execute_result"
    }
   ],
   "source": [
    "columns_to_use = ['Date', 'District', 'X Coordinate', 'Y Coordinate', 'Latitude', 'Longitude', 'Community Area'] ## The GPS coordinates seem to be suited enough\n",
    "\n",
    "data = pd.read_csv(inputfile, sep=',', encoding='utf8', usecols=columns_to_use)\n",
    "data = data[np.isfinite(data['District'])]\n",
    "data.columns"
   ]
  },
  {
   "cell_type": "code",
   "execution_count": 5,
   "metadata": {
    "collapsed": false
   },
   "outputs": [
    {
     "data": {
      "text/html": [
       "<div>\n",
       "<table border=\"1\" class=\"dataframe\">\n",
       "  <thead>\n",
       "    <tr style=\"text-align: right;\">\n",
       "      <th></th>\n",
       "      <th>Date</th>\n",
       "      <th>District</th>\n",
       "      <th>Community Area</th>\n",
       "      <th>X Coordinate</th>\n",
       "      <th>Y Coordinate</th>\n",
       "      <th>Latitude</th>\n",
       "      <th>Longitude</th>\n",
       "    </tr>\n",
       "  </thead>\n",
       "  <tbody>\n",
       "    <tr>\n",
       "      <th>0</th>\n",
       "      <td>08/15/2016 04:10:55 PM</td>\n",
       "      <td>11.0</td>\n",
       "      <td>26.0</td>\n",
       "      <td>NaN</td>\n",
       "      <td>NaN</td>\n",
       "      <td>NaN</td>\n",
       "      <td>NaN</td>\n",
       "    </tr>\n",
       "    <tr>\n",
       "      <th>1</th>\n",
       "      <td>08/19/2016 08:14:00 PM</td>\n",
       "      <td>11.0</td>\n",
       "      <td>26.0</td>\n",
       "      <td>NaN</td>\n",
       "      <td>NaN</td>\n",
       "      <td>NaN</td>\n",
       "      <td>NaN</td>\n",
       "    </tr>\n",
       "    <tr>\n",
       "      <th>2</th>\n",
       "      <td>07/29/2016 01:46:00 PM</td>\n",
       "      <td>7.0</td>\n",
       "      <td>67.0</td>\n",
       "      <td>NaN</td>\n",
       "      <td>NaN</td>\n",
       "      <td>NaN</td>\n",
       "      <td>NaN</td>\n",
       "    </tr>\n",
       "    <tr>\n",
       "      <th>3</th>\n",
       "      <td>01/04/2017 12:26:00 AM</td>\n",
       "      <td>25.0</td>\n",
       "      <td>25.0</td>\n",
       "      <td>NaN</td>\n",
       "      <td>NaN</td>\n",
       "      <td>NaN</td>\n",
       "      <td>NaN</td>\n",
       "    </tr>\n",
       "    <tr>\n",
       "      <th>4</th>\n",
       "      <td>01/04/2017 12:15:00 AM</td>\n",
       "      <td>4.0</td>\n",
       "      <td>46.0</td>\n",
       "      <td>NaN</td>\n",
       "      <td>NaN</td>\n",
       "      <td>NaN</td>\n",
       "      <td>NaN</td>\n",
       "    </tr>\n",
       "  </tbody>\n",
       "</table>\n",
       "</div>"
      ],
      "text/plain": [
       "                     Date  District  Community Area  X Coordinate  \\\n",
       "0  08/15/2016 04:10:55 PM      11.0            26.0           NaN   \n",
       "1  08/19/2016 08:14:00 PM      11.0            26.0           NaN   \n",
       "2  07/29/2016 01:46:00 PM       7.0            67.0           NaN   \n",
       "3  01/04/2017 12:26:00 AM      25.0            25.0           NaN   \n",
       "4  01/04/2017 12:15:00 AM       4.0            46.0           NaN   \n",
       "\n",
       "   Y Coordinate  Latitude  Longitude  \n",
       "0           NaN       NaN        NaN  \n",
       "1           NaN       NaN        NaN  \n",
       "2           NaN       NaN        NaN  \n",
       "3           NaN       NaN        NaN  \n",
       "4           NaN       NaN        NaN  "
      ]
     },
     "execution_count": 5,
     "metadata": {},
     "output_type": "execute_result"
    }
   ],
   "source": [
    "data.head()"
   ]
  },
  {
   "cell_type": "markdown",
   "metadata": {},
   "source": [
    "### Application of Naive Bayes "
   ]
  },
  {
   "cell_type": "code",
   "execution_count": 2,
   "metadata": {
    "collapsed": true
   },
   "outputs": [],
   "source": [
    "train = pd.read_csv('C:\\Users\\jyots\\Music\\NovoEd\\CRIME_DATA.csv') #Chicago crime data for past 1yr\n",
    "HI = pd.read_csv('C:\\Users\\jyots\\Music\\NovoEd\\Book1.csv') #CSV with community area number with its corresponding HI"
   ]
  },
  {
   "cell_type": "code",
   "execution_count": 5,
   "metadata": {
    "collapsed": false
   },
   "outputs": [
    {
     "data": {
      "text/html": [
       "<div>\n",
       "<table border=\"1\" class=\"dataframe\">\n",
       "  <thead>\n",
       "    <tr style=\"text-align: right;\">\n",
       "      <th></th>\n",
       "      <th>Date</th>\n",
       "      <th>Primary Type</th>\n",
       "      <th>Community Area</th>\n",
       "      <th>HI</th>\n",
       "    </tr>\n",
       "  </thead>\n",
       "  <tbody>\n",
       "    <tr>\n",
       "      <th>0</th>\n",
       "      <td>1/4/2017 5:30</td>\n",
       "      <td>MOTOR VEHICLE THEFT</td>\n",
       "      <td>1</td>\n",
       "      <td>39</td>\n",
       "    </tr>\n",
       "    <tr>\n",
       "      <th>1</th>\n",
       "      <td>1/4/2017 13:14</td>\n",
       "      <td>CRIMINAL TRESPASS</td>\n",
       "      <td>1</td>\n",
       "      <td>39</td>\n",
       "    </tr>\n",
       "    <tr>\n",
       "      <th>2</th>\n",
       "      <td>1/4/2017 15:23</td>\n",
       "      <td>BATTERY</td>\n",
       "      <td>1</td>\n",
       "      <td>39</td>\n",
       "    </tr>\n",
       "    <tr>\n",
       "      <th>3</th>\n",
       "      <td>1/4/2017 18:30</td>\n",
       "      <td>BATTERY</td>\n",
       "      <td>1</td>\n",
       "      <td>39</td>\n",
       "    </tr>\n",
       "    <tr>\n",
       "      <th>4</th>\n",
       "      <td>1/4/2017 20:03</td>\n",
       "      <td>MOTOR VEHICLE THEFT</td>\n",
       "      <td>1</td>\n",
       "      <td>39</td>\n",
       "    </tr>\n",
       "  </tbody>\n",
       "</table>\n",
       "</div>"
      ],
      "text/plain": [
       "             Date         Primary Type  Community Area  HI\n",
       "0   1/4/2017 5:30  MOTOR VEHICLE THEFT               1  39\n",
       "1  1/4/2017 13:14    CRIMINAL TRESPASS               1  39\n",
       "2  1/4/2017 15:23              BATTERY               1  39\n",
       "3  1/4/2017 18:30              BATTERY               1  39\n",
       "4  1/4/2017 20:03  MOTOR VEHICLE THEFT               1  39"
      ]
     },
     "execution_count": 5,
     "metadata": {},
     "output_type": "execute_result"
    }
   ],
   "source": [
    "train = train.merge(HI,on='Community Area',how=\"inner\")\n",
    "train.head()\n",
    "kf = KFold(n_splits=2)\n",
    "train,test =kf.get_n_splits(train)"
   ]
  },
  {
   "cell_type": "code",
   "execution_count": 6,
   "metadata": {
    "collapsed": true
   },
   "outputs": [],
   "source": [
    "category = train['Primary Type']\n",
    "prior_prob=category.value_counts(normalize=True)\n",
    "#prior_prob= pd.DataFrame(prior_prob,columns=['Proir_Prob'])"
   ]
  },
  {
   "cell_type": "code",
   "execution_count": 7,
   "metadata": {
    "collapsed": true
   },
   "outputs": [],
   "source": [
    "prior_prob= pd.DataFrame(prior_prob)\n",
    "prior_prob.columns=['Prior_probs']"
   ]
  },
  {
   "cell_type": "code",
   "execution_count": 19,
   "metadata": {
    "collapsed": false
   },
   "outputs": [],
   "source": [
    "train['Hour']= pd.to_datetime(train['Date']).apply(lambda x: x.hour)"
   ]
  },
  {
   "cell_type": "code",
   "execution_count": 22,
   "metadata": {
    "collapsed": false
   },
   "outputs": [],
   "source": [
    "train['Day']= pd.to_datetime(train['Date']).apply(lambda x: x.weekday)\n",
    "train['Day']= pd.to_datetime(train['Date']).apply(lambda x: x.dayofweek)\n",
    "train['month']= pd.to_datetime(train['Date']).apply(lambda x: x.month"
   ]
  },
  {
   "cell_type": "code",
   "execution_count": 12,
   "metadata": {
    "collapsed": true
   },
   "outputs": [],
   "source": [
    "# Likelihood calculations\n",
    "likelihood_hour= pd.crosstab(train['Primary Type'],train.Hour).apply(lambda x: x/x.sum(),axis=1)\n",
    "likelihood_HI = pd.crosstab(train['Primary Type'],train.HI).apply(lambda x: x/x.sum(),axis=1)\n",
    "likelihood_CAN= pd.crosstab(train['Primary Type'],train['Community Area']).apply(lambda x: x/x.sum(),axis=1)"
   ]
  },
  {
   "cell_type": "code",
   "execution_count": 13,
   "metadata": {
    "collapsed": true
   },
   "outputs": [],
   "source": [
    "def classify(row):\n",
    "    hour= row['Hour']\n",
    "    HI= row['HI']\n",
    "    CAN = row['Community Area']\n",
    "    month= row['month']\n",
    "    Day = row['Day']\n",
    "    \n",
    "    likelihood_hour_sub = likelihood_hour[hour]\n",
    "    likelihood_HI_sub = likelihood_HI[HI]\n",
    "    likelihood_CAN_sub = likelihood_CAN[CAN]\n",
    "    likelihood_month_sub = likelihood_month[month]\n",
    "    likelihood_day_sub = likelihood_Day[Day]\n",
    "    \n",
    "    #probabilities\n",
    "    probabilities = prior_prob.join(likelihood_hour_sub,how=\"inner\").join(likelihood_HI_sub,how=\"inner\").join(likelihood_CAN_sub,how=\"inner\").join(likelihood_day_sub,how=\"inner\").join(likelihood_month_sub,how=\"inner\")\n",
    "    probabilities['Probability']= probabilities.prod(axis=1)\n",
    "    probabilities = probabilities.sort('Probability',ascending=False)\n",
    "    \n",
    "    class_label= probabilities.index.values[0]\n",
    "    return(class_label)"
   ]
  },
  {
   "cell_type": "code",
   "execution_count": 28,
   "metadata": {
    "collapsed": true
   },
   "outputs": [],
   "source": [
    "from numpy import random\n",
    "n= random.randint(0,(len(train)-1000))\n",
    "test = train[n:n+1000]"
   ]
  },
  {
   "cell_type": "code",
   "execution_count": 29,
   "metadata": {
    "collapsed": false
   },
   "outputs": [
    {
     "name": "stderr",
     "output_type": "stream",
     "text": [
      "C:\\Anaconda2\\lib\\site-packages\\ipykernel\\__main__.py:13: FutureWarning: sort(columns=....) is deprecated, use sort_values(by=.....)\n",
      "C:\\Anaconda2\\lib\\site-packages\\ipykernel\\__main__.py:1: SettingWithCopyWarning: \n",
      "A value is trying to be set on a copy of a slice from a DataFrame.\n",
      "Try using .loc[row_indexer,col_indexer] = value instead\n",
      "\n",
      "See the caveats in the documentation: http://pandas.pydata.org/pandas-docs/stable/indexing.html#indexing-view-versus-copy\n",
      "  if __name__ == '__main__':\n"
     ]
    }
   ],
   "source": [
    "test['ClassLabel'] = test.apply(lambda x: classify(x),axis=1)"
   ]
  },
  {
   "cell_type": "code",
   "execution_count": 30,
   "metadata": {
    "collapsed": false
   },
   "outputs": [
    {
     "data": {
      "text/html": [
       "<div>\n",
       "<table border=\"1\" class=\"dataframe\">\n",
       "  <thead>\n",
       "    <tr style=\"text-align: right;\">\n",
       "      <th></th>\n",
       "      <th>Date</th>\n",
       "      <th>Primary Type</th>\n",
       "      <th>Community Area</th>\n",
       "      <th>HI</th>\n",
       "      <th>Hour</th>\n",
       "      <th>ClassLabel</th>\n",
       "    </tr>\n",
       "  </thead>\n",
       "  <tbody>\n",
       "    <tr>\n",
       "      <th>177144</th>\n",
       "      <td>11/11/2016 15:30</td>\n",
       "      <td>THEFT</td>\n",
       "      <td>51</td>\n",
       "      <td>65</td>\n",
       "      <td>15</td>\n",
       "      <td>THEFT</td>\n",
       "    </tr>\n",
       "    <tr>\n",
       "      <th>177145</th>\n",
       "      <td>11/11/2016 15:30</td>\n",
       "      <td>THEFT</td>\n",
       "      <td>51</td>\n",
       "      <td>65</td>\n",
       "      <td>15</td>\n",
       "      <td>THEFT</td>\n",
       "    </tr>\n",
       "    <tr>\n",
       "      <th>177146</th>\n",
       "      <td>11/11/2016 15:30</td>\n",
       "      <td>THEFT</td>\n",
       "      <td>51</td>\n",
       "      <td>65</td>\n",
       "      <td>15</td>\n",
       "      <td>THEFT</td>\n",
       "    </tr>\n",
       "    <tr>\n",
       "      <th>177147</th>\n",
       "      <td>10/29/2016 9:30</td>\n",
       "      <td>OFFENSE INVOLVING CHILDREN</td>\n",
       "      <td>51</td>\n",
       "      <td>65</td>\n",
       "      <td>9</td>\n",
       "      <td>OTHER OFFENSE</td>\n",
       "    </tr>\n",
       "    <tr>\n",
       "      <th>177148</th>\n",
       "      <td>10/29/2016 9:30</td>\n",
       "      <td>OFFENSE INVOLVING CHILDREN</td>\n",
       "      <td>51</td>\n",
       "      <td>65</td>\n",
       "      <td>9</td>\n",
       "      <td>OTHER OFFENSE</td>\n",
       "    </tr>\n",
       "  </tbody>\n",
       "</table>\n",
       "</div>"
      ],
      "text/plain": [
       "                    Date                Primary Type  Community Area  HI  \\\n",
       "177144  11/11/2016 15:30                       THEFT              51  65   \n",
       "177145  11/11/2016 15:30                       THEFT              51  65   \n",
       "177146  11/11/2016 15:30                       THEFT              51  65   \n",
       "177147   10/29/2016 9:30  OFFENSE INVOLVING CHILDREN              51  65   \n",
       "177148   10/29/2016 9:30  OFFENSE INVOLVING CHILDREN              51  65   \n",
       "\n",
       "        Hour     ClassLabel  \n",
       "177144    15          THEFT  \n",
       "177145    15          THEFT  \n",
       "177146    15          THEFT  \n",
       "177147     9  OTHER OFFENSE  \n",
       "177148     9  OTHER OFFENSE  "
      ]
     },
     "execution_count": 30,
     "metadata": {},
     "output_type": "execute_result"
    }
   ],
   "source": [
    "test.head()"
   ]
  },
  {
   "cell_type": "code",
   "execution_count": 31,
   "metadata": {
    "collapsed": false
   },
   "outputs": [
    {
     "data": {
      "text/html": [
       "<div>\n",
       "<table border=\"1\" class=\"dataframe\">\n",
       "  <thead>\n",
       "    <tr style=\"text-align: right;\">\n",
       "      <th>ClassLabel</th>\n",
       "      <th>BATTERY</th>\n",
       "      <th>CRIMINAL DAMAGE</th>\n",
       "      <th>OTHER OFFENSE</th>\n",
       "      <th>THEFT</th>\n",
       "    </tr>\n",
       "    <tr>\n",
       "      <th>row_0</th>\n",
       "      <th></th>\n",
       "      <th></th>\n",
       "      <th></th>\n",
       "      <th></th>\n",
       "    </tr>\n",
       "  </thead>\n",
       "  <tbody>\n",
       "    <tr>\n",
       "      <th>177144</th>\n",
       "      <td>0</td>\n",
       "      <td>0</td>\n",
       "      <td>0</td>\n",
       "      <td>1</td>\n",
       "    </tr>\n",
       "    <tr>\n",
       "      <th>177145</th>\n",
       "      <td>0</td>\n",
       "      <td>0</td>\n",
       "      <td>0</td>\n",
       "      <td>1</td>\n",
       "    </tr>\n",
       "    <tr>\n",
       "      <th>177146</th>\n",
       "      <td>0</td>\n",
       "      <td>0</td>\n",
       "      <td>0</td>\n",
       "      <td>1</td>\n",
       "    </tr>\n",
       "    <tr>\n",
       "      <th>177147</th>\n",
       "      <td>0</td>\n",
       "      <td>0</td>\n",
       "      <td>1</td>\n",
       "      <td>0</td>\n",
       "    </tr>\n",
       "    <tr>\n",
       "      <th>177148</th>\n",
       "      <td>0</td>\n",
       "      <td>0</td>\n",
       "      <td>1</td>\n",
       "      <td>0</td>\n",
       "    </tr>\n",
       "  </tbody>\n",
       "</table>\n",
       "</div>"
      ],
      "text/plain": [
       "ClassLabel  BATTERY  CRIMINAL DAMAGE  OTHER OFFENSE  THEFT\n",
       "row_0                                                     \n",
       "177144            0                0              0      1\n",
       "177145            0                0              0      1\n",
       "177146            0                0              0      1\n",
       "177147            0                0              1      0\n",
       "177148            0                0              1      0"
      ]
     },
     "execution_count": 31,
     "metadata": {},
     "output_type": "execute_result"
    }
   ],
   "source": [
    "results = pd.crosstab(test.index,(test['ClassLabel']))\n",
    "results = pd.DataFrame(results)\n",
    "results.head()"
   ]
  },
  {
   "cell_type": "code",
   "execution_count": 32,
   "metadata": {
    "collapsed": true
   },
   "outputs": [],
   "source": [
    "category= prior_prob.index.values\n",
    "predictions= pd.DataFrame(index=test.index,columns=category)\n",
    "predictions= predictions.fillna(0)\n",
    "predictions= (predictions+results).fillna(0)"
   ]
  },
  {
   "cell_type": "code",
   "execution_count": null,
   "metadata": {
    "collapsed": true
   },
   "outputs": [],
   "source": [
    "#predictions.to_csv('C:\\Users\\jyots\\Music/predictions.csv')"
   ]
  },
  {
   "cell_type": "code",
   "execution_count": 33,
   "metadata": {
    "collapsed": false
   },
   "outputs": [
    {
     "data": {
      "text/html": [
       "<div>\n",
       "<table border=\"1\" class=\"dataframe\">\n",
       "  <thead>\n",
       "    <tr style=\"text-align: right;\">\n",
       "      <th></th>\n",
       "      <th>ARSON</th>\n",
       "      <th>ASSAULT</th>\n",
       "      <th>BATTERY</th>\n",
       "      <th>BURGLARY</th>\n",
       "      <th>CONCEALED CARRY LICENSE VIOLATION</th>\n",
       "      <th>CRIM SEXUAL ASSAULT</th>\n",
       "      <th>CRIMINAL DAMAGE</th>\n",
       "      <th>CRIMINAL TRESPASS</th>\n",
       "      <th>DECEPTIVE PRACTICE</th>\n",
       "      <th>GAMBLING</th>\n",
       "      <th>...</th>\n",
       "      <th>OFFENSE INVOLVING CHILDREN</th>\n",
       "      <th>OTHER NARCOTIC VIOLATION</th>\n",
       "      <th>OTHER OFFENSE</th>\n",
       "      <th>PROSTITUTION</th>\n",
       "      <th>PUBLIC PEACE VIOLATION</th>\n",
       "      <th>ROBBERY</th>\n",
       "      <th>SEX OFFENSE</th>\n",
       "      <th>STALKING</th>\n",
       "      <th>THEFT</th>\n",
       "      <th>WEAPONS VIOLATION</th>\n",
       "    </tr>\n",
       "  </thead>\n",
       "  <tbody>\n",
       "    <tr>\n",
       "      <th>177144</th>\n",
       "      <td>0.0</td>\n",
       "      <td>0.0</td>\n",
       "      <td>0</td>\n",
       "      <td>0.0</td>\n",
       "      <td>0.0</td>\n",
       "      <td>0.0</td>\n",
       "      <td>0</td>\n",
       "      <td>0.0</td>\n",
       "      <td>0.0</td>\n",
       "      <td>0.0</td>\n",
       "      <td>...</td>\n",
       "      <td>0.0</td>\n",
       "      <td>0.0</td>\n",
       "      <td>0</td>\n",
       "      <td>0.0</td>\n",
       "      <td>0.0</td>\n",
       "      <td>0.0</td>\n",
       "      <td>0.0</td>\n",
       "      <td>0.0</td>\n",
       "      <td>1</td>\n",
       "      <td>0.0</td>\n",
       "    </tr>\n",
       "    <tr>\n",
       "      <th>177145</th>\n",
       "      <td>0.0</td>\n",
       "      <td>0.0</td>\n",
       "      <td>0</td>\n",
       "      <td>0.0</td>\n",
       "      <td>0.0</td>\n",
       "      <td>0.0</td>\n",
       "      <td>0</td>\n",
       "      <td>0.0</td>\n",
       "      <td>0.0</td>\n",
       "      <td>0.0</td>\n",
       "      <td>...</td>\n",
       "      <td>0.0</td>\n",
       "      <td>0.0</td>\n",
       "      <td>0</td>\n",
       "      <td>0.0</td>\n",
       "      <td>0.0</td>\n",
       "      <td>0.0</td>\n",
       "      <td>0.0</td>\n",
       "      <td>0.0</td>\n",
       "      <td>1</td>\n",
       "      <td>0.0</td>\n",
       "    </tr>\n",
       "    <tr>\n",
       "      <th>177146</th>\n",
       "      <td>0.0</td>\n",
       "      <td>0.0</td>\n",
       "      <td>0</td>\n",
       "      <td>0.0</td>\n",
       "      <td>0.0</td>\n",
       "      <td>0.0</td>\n",
       "      <td>0</td>\n",
       "      <td>0.0</td>\n",
       "      <td>0.0</td>\n",
       "      <td>0.0</td>\n",
       "      <td>...</td>\n",
       "      <td>0.0</td>\n",
       "      <td>0.0</td>\n",
       "      <td>0</td>\n",
       "      <td>0.0</td>\n",
       "      <td>0.0</td>\n",
       "      <td>0.0</td>\n",
       "      <td>0.0</td>\n",
       "      <td>0.0</td>\n",
       "      <td>1</td>\n",
       "      <td>0.0</td>\n",
       "    </tr>\n",
       "    <tr>\n",
       "      <th>177147</th>\n",
       "      <td>0.0</td>\n",
       "      <td>0.0</td>\n",
       "      <td>0</td>\n",
       "      <td>0.0</td>\n",
       "      <td>0.0</td>\n",
       "      <td>0.0</td>\n",
       "      <td>0</td>\n",
       "      <td>0.0</td>\n",
       "      <td>0.0</td>\n",
       "      <td>0.0</td>\n",
       "      <td>...</td>\n",
       "      <td>0.0</td>\n",
       "      <td>0.0</td>\n",
       "      <td>1</td>\n",
       "      <td>0.0</td>\n",
       "      <td>0.0</td>\n",
       "      <td>0.0</td>\n",
       "      <td>0.0</td>\n",
       "      <td>0.0</td>\n",
       "      <td>0</td>\n",
       "      <td>0.0</td>\n",
       "    </tr>\n",
       "    <tr>\n",
       "      <th>177148</th>\n",
       "      <td>0.0</td>\n",
       "      <td>0.0</td>\n",
       "      <td>0</td>\n",
       "      <td>0.0</td>\n",
       "      <td>0.0</td>\n",
       "      <td>0.0</td>\n",
       "      <td>0</td>\n",
       "      <td>0.0</td>\n",
       "      <td>0.0</td>\n",
       "      <td>0.0</td>\n",
       "      <td>...</td>\n",
       "      <td>0.0</td>\n",
       "      <td>0.0</td>\n",
       "      <td>1</td>\n",
       "      <td>0.0</td>\n",
       "      <td>0.0</td>\n",
       "      <td>0.0</td>\n",
       "      <td>0.0</td>\n",
       "      <td>0.0</td>\n",
       "      <td>0</td>\n",
       "      <td>0.0</td>\n",
       "    </tr>\n",
       "  </tbody>\n",
       "</table>\n",
       "<p>5 rows × 30 columns</p>\n",
       "</div>"
      ],
      "text/plain": [
       "        ARSON  ASSAULT  BATTERY  BURGLARY  CONCEALED CARRY LICENSE VIOLATION  \\\n",
       "177144    0.0      0.0        0       0.0                                0.0   \n",
       "177145    0.0      0.0        0       0.0                                0.0   \n",
       "177146    0.0      0.0        0       0.0                                0.0   \n",
       "177147    0.0      0.0        0       0.0                                0.0   \n",
       "177148    0.0      0.0        0       0.0                                0.0   \n",
       "\n",
       "        CRIM SEXUAL ASSAULT  CRIMINAL DAMAGE  CRIMINAL TRESPASS  \\\n",
       "177144                  0.0                0                0.0   \n",
       "177145                  0.0                0                0.0   \n",
       "177146                  0.0                0                0.0   \n",
       "177147                  0.0                0                0.0   \n",
       "177148                  0.0                0                0.0   \n",
       "\n",
       "        DECEPTIVE PRACTICE  GAMBLING        ...          \\\n",
       "177144                 0.0       0.0        ...           \n",
       "177145                 0.0       0.0        ...           \n",
       "177146                 0.0       0.0        ...           \n",
       "177147                 0.0       0.0        ...           \n",
       "177148                 0.0       0.0        ...           \n",
       "\n",
       "        OFFENSE INVOLVING CHILDREN  OTHER NARCOTIC VIOLATION  OTHER OFFENSE  \\\n",
       "177144                         0.0                       0.0              0   \n",
       "177145                         0.0                       0.0              0   \n",
       "177146                         0.0                       0.0              0   \n",
       "177147                         0.0                       0.0              1   \n",
       "177148                         0.0                       0.0              1   \n",
       "\n",
       "        PROSTITUTION  PUBLIC PEACE VIOLATION  ROBBERY  SEX OFFENSE  STALKING  \\\n",
       "177144           0.0                     0.0      0.0          0.0       0.0   \n",
       "177145           0.0                     0.0      0.0          0.0       0.0   \n",
       "177146           0.0                     0.0      0.0          0.0       0.0   \n",
       "177147           0.0                     0.0      0.0          0.0       0.0   \n",
       "177148           0.0                     0.0      0.0          0.0       0.0   \n",
       "\n",
       "        THEFT  WEAPONS VIOLATION  \n",
       "177144      1                0.0  \n",
       "177145      1                0.0  \n",
       "177146      1                0.0  \n",
       "177147      0                0.0  \n",
       "177148      0                0.0  \n",
       "\n",
       "[5 rows x 30 columns]"
      ]
     },
     "execution_count": 33,
     "metadata": {},
     "output_type": "execute_result"
    }
   ],
   "source": [
    "predictions.head()"
   ]
  },
  {
   "cell_type": "code",
   "execution_count": 46,
   "metadata": {
    "collapsed": false
   },
   "outputs": [
    {
     "name": "stdout",
     "output_type": "stream",
     "text": [
      "25.3\n"
     ]
    }
   ],
   "source": [
    "def getAccuracy(test, predictions):\n",
    "    correct = 0\n",
    "    for i in range(len(test)):\n",
    "        if test.iloc[i][-1] == test.iloc[i][1]:\n",
    "            correct += 1\n",
    "    return (correct/float(len(test))) * 100.0\n",
    "\n",
    "accuracy = getAccuracy(test, predictions)\n",
    "print(accuracy)"
   ]
  }
 ],
 "metadata": {
  "anaconda-cloud": {},
  "kernelspec": {
   "display_name": "Python [Root]",
   "language": "python",
   "name": "Python [Root]"
  },
  "language_info": {
   "codemirror_mode": {
    "name": "ipython",
    "version": 2
   },
   "file_extension": ".py",
   "mimetype": "text/x-python",
   "name": "python",
   "nbconvert_exporter": "python",
   "pygments_lexer": "ipython2",
   "version": "2.7.12"
  }
 },
 "nbformat": 4,
 "nbformat_minor": 1
}
